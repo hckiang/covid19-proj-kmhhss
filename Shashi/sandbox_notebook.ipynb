{
 "cells": [
  {
   "cell_type": "code",
   "execution_count": 1,
   "metadata": {},
   "outputs": [],
   "source": [
    "import eurostat_deaths as eurostat"
   ]
  },
  {
   "cell_type": "code",
   "execution_count": 2,
   "metadata": {},
   "outputs": [
    {
     "data": {
      "text/plain": [
       "['__builtins__',\n",
       " '__cached__',\n",
       " '__doc__',\n",
       " '__file__',\n",
       " '__loader__',\n",
       " '__name__',\n",
       " '__package__',\n",
       " '__path__',\n",
       " '__spec__',\n",
       " '__version__',\n",
       " 'cache',\n",
       " 'cache_deaths',\n",
       " 'deaths',\n",
       " 'pkg_resources',\n",
       " 'populations']"
      ]
     },
     "execution_count": 2,
     "metadata": {},
     "output_type": "execute_result"
    }
   ],
   "source": [
    "dir(eurostat)"
   ]
  },
  {
   "cell_type": "code",
   "execution_count": 5,
   "metadata": {},
   "outputs": [
    {
     "name": "stdout",
     "output_type": "stream",
     "text": [
      "Help on function populations in module eurostat_deaths.populations:\n",
      "\n",
      "populations(output=False, chunksize=10)\n",
      "\n"
     ]
    }
   ],
   "source": [
    "help(eurostat.populations)"
   ]
  },
  {
   "cell_type": "code",
   "execution_count": 6,
   "metadata": {},
   "outputs": [],
   "source": [
    "pop_data = eurostat.populations()"
   ]
  },
  {
   "cell_type": "code",
   "execution_count": 7,
   "metadata": {},
   "outputs": [
    {
     "data": {
      "text/html": [
       "<div>\n",
       "<style scoped>\n",
       "    .dataframe tbody tr th:only-of-type {\n",
       "        vertical-align: middle;\n",
       "    }\n",
       "\n",
       "    .dataframe tbody tr th {\n",
       "        vertical-align: top;\n",
       "    }\n",
       "\n",
       "    .dataframe thead th {\n",
       "        text-align: right;\n",
       "    }\n",
       "</style>\n",
       "<table border=\"1\" class=\"dataframe\">\n",
       "  <thead>\n",
       "    <tr style=\"text-align: right;\">\n",
       "      <th></th>\n",
       "      <th>sex</th>\n",
       "      <th>age</th>\n",
       "      <th>geo\\time</th>\n",
       "      <th>2020</th>\n",
       "      <th>2019</th>\n",
       "      <th>2018</th>\n",
       "      <th>2017</th>\n",
       "      <th>2016</th>\n",
       "      <th>2015</th>\n",
       "      <th>2014</th>\n",
       "    </tr>\n",
       "  </thead>\n",
       "  <tbody>\n",
       "    <tr>\n",
       "      <th>0</th>\n",
       "      <td>F</td>\n",
       "      <td>TOTAL</td>\n",
       "      <td>AL</td>\n",
       "      <td>1425342.0</td>\n",
       "      <td>1432833.0</td>\n",
       "      <td>1431715.0</td>\n",
       "      <td>1423050.0</td>\n",
       "      <td>1417141.0</td>\n",
       "      <td>1424597.0</td>\n",
       "      <td>1430827.0</td>\n",
       "    </tr>\n",
       "    <tr>\n",
       "      <th>1</th>\n",
       "      <td>F</td>\n",
       "      <td>TOTAL</td>\n",
       "      <td>AL0</td>\n",
       "      <td>1425342.0</td>\n",
       "      <td>1432833.0</td>\n",
       "      <td>1431715.0</td>\n",
       "      <td>1423050.0</td>\n",
       "      <td>1417141.0</td>\n",
       "      <td>1424597.0</td>\n",
       "      <td>1430827.0</td>\n",
       "    </tr>\n",
       "    <tr>\n",
       "      <th>2</th>\n",
       "      <td>F</td>\n",
       "      <td>TOTAL</td>\n",
       "      <td>AL01</td>\n",
       "      <td>399599.0</td>\n",
       "      <td>404201.0</td>\n",
       "      <td>405598.0</td>\n",
       "      <td>405835.0</td>\n",
       "      <td>406682.0</td>\n",
       "      <td>410586.0</td>\n",
       "      <td>416084.0</td>\n",
       "    </tr>\n",
       "    <tr>\n",
       "      <th>3</th>\n",
       "      <td>F</td>\n",
       "      <td>TOTAL</td>\n",
       "      <td>AL011</td>\n",
       "      <td>55402.0</td>\n",
       "      <td>57002.0</td>\n",
       "      <td>57895.0</td>\n",
       "      <td>59837.0</td>\n",
       "      <td>61749.0</td>\n",
       "      <td>63084.0</td>\n",
       "      <td>64941.0</td>\n",
       "    </tr>\n",
       "    <tr>\n",
       "      <th>4</th>\n",
       "      <td>F</td>\n",
       "      <td>TOTAL</td>\n",
       "      <td>AL012</td>\n",
       "      <td>143561.0</td>\n",
       "      <td>143366.0</td>\n",
       "      <td>142648.0</td>\n",
       "      <td>139433.0</td>\n",
       "      <td>136589.0</td>\n",
       "      <td>135847.0</td>\n",
       "      <td>135390.0</td>\n",
       "    </tr>\n",
       "  </tbody>\n",
       "</table>\n",
       "</div>"
      ],
      "text/plain": [
       "  sex    age geo\\time       2020       2019       2018       2017       2016  \\\n",
       "0   F  TOTAL       AL  1425342.0  1432833.0  1431715.0  1423050.0  1417141.0   \n",
       "1   F  TOTAL      AL0  1425342.0  1432833.0  1431715.0  1423050.0  1417141.0   \n",
       "2   F  TOTAL     AL01   399599.0   404201.0   405598.0   405835.0   406682.0   \n",
       "3   F  TOTAL    AL011    55402.0    57002.0    57895.0    59837.0    61749.0   \n",
       "4   F  TOTAL    AL012   143561.0   143366.0   142648.0   139433.0   136589.0   \n",
       "\n",
       "        2015       2014  \n",
       "0  1424597.0  1430827.0  \n",
       "1  1424597.0  1430827.0  \n",
       "2   410586.0   416084.0  \n",
       "3    63084.0    64941.0  \n",
       "4   135847.0   135390.0  "
      ]
     },
     "execution_count": 7,
     "metadata": {},
     "output_type": "execute_result"
    }
   ],
   "source": [
    "pop_data.head()"
   ]
  },
  {
   "cell_type": "code",
   "execution_count": 8,
   "metadata": {},
   "outputs": [
    {
     "data": {
      "text/plain": [
       "F    44476\n",
       "M    44476\n",
       "T    44476\n",
       "Name: sex, dtype: int64"
      ]
     },
     "execution_count": 8,
     "metadata": {},
     "output_type": "execute_result"
    }
   ],
   "source": [
    "pop_data['sex'].value_counts()"
   ]
  },
  {
   "cell_type": "code",
   "execution_count": 9,
   "metadata": {},
   "outputs": [
    {
     "data": {
      "text/plain": [
       "0_4      6102\n",
       "65_69    6102\n",
       "5_9      6102\n",
       "50_54    6102\n",
       "55_59    6102\n",
       "20_24    6102\n",
       "60_64    6102\n",
       "25_29    6102\n",
       "70_74    6102\n",
       "15_19    6102\n",
       "75_79    6102\n",
       "35_39    6102\n",
       "UNK      6102\n",
       "45_49    6102\n",
       "40_44    6102\n",
       "30_34    6102\n",
       "10_14    6102\n",
       "TOTAL    6102\n",
       "80_84    6102\n",
       "85_89    6051\n",
       "90       6051\n",
       "85       5388\n",
       "Name: age, dtype: int64"
      ]
     },
     "execution_count": 9,
     "metadata": {},
     "output_type": "execute_result"
    }
   ],
   "source": [
    "pop_data['age'].value_counts()"
   ]
  },
  {
   "cell_type": "code",
   "execution_count": 14,
   "metadata": {},
   "outputs": [
    {
     "data": {
      "text/plain": [
       "NL225    66\n",
       "RO412    66\n",
       "DE278    66\n",
       "BG341    66\n",
       "DE21     66\n",
       "         ..\n",
       "AL011    60\n",
       "AL03     60\n",
       "AL031    60\n",
       "AL022    60\n",
       "AL021    60\n",
       "Name: geo\\time, Length: 2034, dtype: int64"
      ]
     },
     "execution_count": 14,
     "metadata": {},
     "output_type": "execute_result"
    }
   ],
   "source": [
    "pop_data['geo\\\\time'].value_counts()"
   ]
  },
  {
   "cell_type": "code",
   "execution_count": 19,
   "metadata": {},
   "outputs": [
    {
     "data": {
      "text/html": [
       "<div>\n",
       "<style scoped>\n",
       "    .dataframe tbody tr th:only-of-type {\n",
       "        vertical-align: middle;\n",
       "    }\n",
       "\n",
       "    .dataframe tbody tr th {\n",
       "        vertical-align: top;\n",
       "    }\n",
       "\n",
       "    .dataframe thead th {\n",
       "        text-align: right;\n",
       "    }\n",
       "</style>\n",
       "<table border=\"1\" class=\"dataframe\">\n",
       "  <thead>\n",
       "    <tr style=\"text-align: right;\">\n",
       "      <th></th>\n",
       "      <th>sex</th>\n",
       "      <th>age</th>\n",
       "      <th>geo\\time</th>\n",
       "      <th>2020</th>\n",
       "      <th>2019</th>\n",
       "      <th>2018</th>\n",
       "      <th>2017</th>\n",
       "      <th>2016</th>\n",
       "      <th>2015</th>\n",
       "      <th>2014</th>\n",
       "    </tr>\n",
       "  </thead>\n",
       "  <tbody>\n",
       "    <tr>\n",
       "      <th>1618</th>\n",
       "      <td>F</td>\n",
       "      <td>TOTAL</td>\n",
       "      <td>SE</td>\n",
       "      <td>5131775.0</td>\n",
       "      <td>5087747.0</td>\n",
       "      <td>5037580.0</td>\n",
       "      <td>4981806.0</td>\n",
       "      <td>4920051.0</td>\n",
       "      <td>4875115.0</td>\n",
       "      <td>4830507.0</td>\n",
       "    </tr>\n",
       "    <tr>\n",
       "      <th>46094</th>\n",
       "      <td>M</td>\n",
       "      <td>TOTAL</td>\n",
       "      <td>SE</td>\n",
       "      <td>5195814.0</td>\n",
       "      <td>5142438.0</td>\n",
       "      <td>5082662.0</td>\n",
       "      <td>5013347.0</td>\n",
       "      <td>4930966.0</td>\n",
       "      <td>4872240.0</td>\n",
       "      <td>4814357.0</td>\n",
       "    </tr>\n",
       "    <tr>\n",
       "      <th>90570</th>\n",
       "      <td>T</td>\n",
       "      <td>TOTAL</td>\n",
       "      <td>SE</td>\n",
       "      <td>10327589.0</td>\n",
       "      <td>10230185.0</td>\n",
       "      <td>10120242.0</td>\n",
       "      <td>9995153.0</td>\n",
       "      <td>9851017.0</td>\n",
       "      <td>9747355.0</td>\n",
       "      <td>9644864.0</td>\n",
       "    </tr>\n",
       "  </tbody>\n",
       "</table>\n",
       "</div>"
      ],
      "text/plain": [
       "      sex    age geo\\time        2020        2019        2018       2017  \\\n",
       "1618    F  TOTAL       SE   5131775.0   5087747.0   5037580.0  4981806.0   \n",
       "46094   M  TOTAL       SE   5195814.0   5142438.0   5082662.0  5013347.0   \n",
       "90570   T  TOTAL       SE  10327589.0  10230185.0  10120242.0  9995153.0   \n",
       "\n",
       "            2016       2015       2014  \n",
       "1618   4920051.0  4875115.0  4830507.0  \n",
       "46094  4930966.0  4872240.0  4814357.0  \n",
       "90570  9851017.0  9747355.0  9644864.0  "
      ]
     },
     "execution_count": 19,
     "metadata": {},
     "output_type": "execute_result"
    }
   ],
   "source": [
    "#pop_data[(pop_data['geo\\\\time'] == 'SE') & (pop_data['age'] == 'T')]\n",
    "pop_data[(pop_data['geo\\\\time'] == 'SE') & (pop_data['age'] == 'TOTAL')]"
   ]
  },
  {
   "cell_type": "code",
   "execution_count": 20,
   "metadata": {},
   "outputs": [
    {
     "name": "stderr",
     "output_type": "stream",
     "text": [
      "WARNING:root:input has over 200MB, processing will take a few minutes (for me 15 min)\n"
     ]
    }
   ],
   "source": [
    "deaths = eurostat.deaths()"
   ]
  },
  {
   "cell_type": "code",
   "execution_count": 21,
   "metadata": {},
   "outputs": [],
   "source": [
    "import pandas as pd"
   ]
  },
  {
   "cell_type": "code",
   "execution_count": 22,
   "metadata": {},
   "outputs": [],
   "source": [
    "deaths.to_csv('deaths.csv')"
   ]
  },
  {
   "cell_type": "code",
   "execution_count": 23,
   "metadata": {},
   "outputs": [
    {
     "data": {
      "text/html": [
       "<div>\n",
       "<style scoped>\n",
       "    .dataframe tbody tr th:only-of-type {\n",
       "        vertical-align: middle;\n",
       "    }\n",
       "\n",
       "    .dataframe tbody tr th {\n",
       "        vertical-align: top;\n",
       "    }\n",
       "\n",
       "    .dataframe thead th {\n",
       "        text-align: right;\n",
       "    }\n",
       "</style>\n",
       "<table border=\"1\" class=\"dataframe\">\n",
       "  <thead>\n",
       "    <tr style=\"text-align: right;\">\n",
       "      <th></th>\n",
       "      <th>region</th>\n",
       "      <th>sex</th>\n",
       "      <th>age</th>\n",
       "      <th>year</th>\n",
       "      <th>week</th>\n",
       "      <th>deaths</th>\n",
       "    </tr>\n",
       "  </thead>\n",
       "  <tbody>\n",
       "    <tr>\n",
       "      <th>0</th>\n",
       "      <td>AL</td>\n",
       "      <td>F</td>\n",
       "      <td>TOTAL</td>\n",
       "      <td>2005</td>\n",
       "      <td>27</td>\n",
       "      <td>None</td>\n",
       "    </tr>\n",
       "    <tr>\n",
       "      <th>1</th>\n",
       "      <td>AL0</td>\n",
       "      <td>F</td>\n",
       "      <td>TOTAL</td>\n",
       "      <td>2005</td>\n",
       "      <td>27</td>\n",
       "      <td>None</td>\n",
       "    </tr>\n",
       "    <tr>\n",
       "      <th>2</th>\n",
       "      <td>AL01</td>\n",
       "      <td>F</td>\n",
       "      <td>TOTAL</td>\n",
       "      <td>2005</td>\n",
       "      <td>27</td>\n",
       "      <td>None</td>\n",
       "    </tr>\n",
       "    <tr>\n",
       "      <th>3</th>\n",
       "      <td>AL011</td>\n",
       "      <td>F</td>\n",
       "      <td>TOTAL</td>\n",
       "      <td>2005</td>\n",
       "      <td>27</td>\n",
       "      <td>None</td>\n",
       "    </tr>\n",
       "    <tr>\n",
       "      <th>4</th>\n",
       "      <td>AL012</td>\n",
       "      <td>F</td>\n",
       "      <td>TOTAL</td>\n",
       "      <td>2005</td>\n",
       "      <td>27</td>\n",
       "      <td>None</td>\n",
       "    </tr>\n",
       "  </tbody>\n",
       "</table>\n",
       "</div>"
      ],
      "text/plain": [
       "  region sex    age  year  week deaths\n",
       "0     AL   F  TOTAL  2005    27   None\n",
       "1    AL0   F  TOTAL  2005    27   None\n",
       "2   AL01   F  TOTAL  2005    27   None\n",
       "3  AL011   F  TOTAL  2005    27   None\n",
       "4  AL012   F  TOTAL  2005    27   None"
      ]
     },
     "execution_count": 23,
     "metadata": {},
     "output_type": "execute_result"
    }
   ],
   "source": [
    "deaths.head()"
   ]
  },
  {
   "cell_type": "code",
   "execution_count": 27,
   "metadata": {
    "scrolled": false
   },
   "outputs": [
    {
     "data": {
      "text/plain": [
       "T    33886420\n",
       "F    33866044\n",
       "M    33859252\n",
       "Name: sex, dtype: int64"
      ]
     },
     "execution_count": 27,
     "metadata": {},
     "output_type": "execute_result"
    }
   ],
   "source": [
    "deaths['sex'].value_counts()"
   ]
  },
  {
   "cell_type": "code",
   "execution_count": 31,
   "metadata": {},
   "outputs": [
    {
     "name": "stdout",
     "output_type": "stream",
     "text": [
      "Help on function deaths in module eurostat_deaths.deaths:\n",
      "\n",
      "deaths(regions=None, start=None, sex=None, age=None, output=None, chunksize=1)\n",
      "    Reads data from Eurostat, filters and saves to CSV.\n",
      "    \n",
      "    Args:\n",
      "        regions (list, optional): Filter of countries.\n",
      "        start (datetime, optional): Start time. Will be rounded to week. Endtime is always end of data.\n",
      "                                    Default is all the data (no filtering).\n",
      "        sex (str, optional): Sex to consider.\n",
      "        age (str, optional): Age to consider\n",
      "\n"
     ]
    }
   ],
   "source": [
    "from datetime import datetimehelp(eurostat.deaths)"
   ]
  },
  {
   "cell_type": "code",
   "execution_count": 32,
   "metadata": {},
   "outputs": [],
   "source": [
    "from datetime import datetime"
   ]
  },
  {
   "cell_type": "code",
   "execution_count": 38,
   "metadata": {},
   "outputs": [
    {
     "data": {
      "text/plain": [
       "datetime.date(2019, 1, 1)"
      ]
     },
     "execution_count": 38,
     "metadata": {},
     "output_type": "execute_result"
    }
   ],
   "source": [
    "datetime.strptime('2019-01-01', '%Y-%m-%d').date()"
   ]
  },
  {
   "cell_type": "code",
   "execution_count": 61,
   "metadata": {},
   "outputs": [
    {
     "name": "stderr",
     "output_type": "stream",
     "text": [
      "WARNING:root:input has over 200MB, processing will take a few minutes (for me 15 min)\n"
     ]
    }
   ],
   "source": [
    "deaths_new = eurostat.deaths(start = datetime.strptime('2015-01-01', '%Y-%m-%d').date())"
   ]
  },
  {
   "cell_type": "code",
   "execution_count": 62,
   "metadata": {},
   "outputs": [],
   "source": [
    "deaths_new.to_csv('/Users/stray/Documents/GitHub/covid19-proj-kmhhss/Shashi - Martin Project Support/data/deaths.csv', index = False)"
   ]
  },
  {
   "cell_type": "code",
   "execution_count": 48,
   "metadata": {},
   "outputs": [
    {
     "data": {
      "text/plain": [
       "array([ 1,  2,  3,  4,  5,  6,  7,  8,  9, 10, 11, 12, 13, 14, 15, 16, 17,\n",
       "       18, 19, 20, 21, 22, 23, 24, 25, 26, 27, 28, 29, 30, 31, 32, 33, 34,\n",
       "       35, 36, 37, 38, 39, 40, 41, 42, 43, 44, 45, 46, 47, 48, 49, 50, 51,\n",
       "       52, 53])"
      ]
     },
     "execution_count": 48,
     "metadata": {},
     "output_type": "execute_result"
    }
   ],
   "source": [
    "np.sort(deaths_new['week'].unique())"
   ]
  },
  {
   "cell_type": "code",
   "execution_count": 47,
   "metadata": {},
   "outputs": [],
   "source": [
    "import numpy as np"
   ]
  },
  {
   "cell_type": "code",
   "execution_count": 60,
   "metadata": {},
   "outputs": [
    {
     "data": {
      "text/plain": [
       "array([], dtype=int64)"
      ]
     },
     "execution_count": 60,
     "metadata": {},
     "output_type": "execute_result"
    }
   ],
   "source": [
    "np.sort(deaths_new['week'][deaths_new['year'] == 2017].unique())"
   ]
  },
  {
   "cell_type": "code",
   "execution_count": 51,
   "metadata": {},
   "outputs": [
    {
     "data": {
      "text/html": [
       "<div>\n",
       "<style scoped>\n",
       "    .dataframe tbody tr th:only-of-type {\n",
       "        vertical-align: middle;\n",
       "    }\n",
       "\n",
       "    .dataframe tbody tr th {\n",
       "        vertical-align: top;\n",
       "    }\n",
       "\n",
       "    .dataframe thead th {\n",
       "        text-align: right;\n",
       "    }\n",
       "</style>\n",
       "<table border=\"1\" class=\"dataframe\">\n",
       "  <thead>\n",
       "    <tr style=\"text-align: right;\">\n",
       "      <th></th>\n",
       "      <th>region</th>\n",
       "      <th>sex</th>\n",
       "      <th>age</th>\n",
       "      <th>year</th>\n",
       "      <th>week</th>\n",
       "      <th>deaths</th>\n",
       "    </tr>\n",
       "  </thead>\n",
       "  <tbody>\n",
       "    <tr>\n",
       "      <th>5000</th>\n",
       "      <td>AL</td>\n",
       "      <td>F</td>\n",
       "      <td>TOTAL</td>\n",
       "      <td>2020</td>\n",
       "      <td>5</td>\n",
       "      <td>230</td>\n",
       "    </tr>\n",
       "    <tr>\n",
       "      <th>5001</th>\n",
       "      <td>AL0</td>\n",
       "      <td>F</td>\n",
       "      <td>TOTAL</td>\n",
       "      <td>2020</td>\n",
       "      <td>5</td>\n",
       "      <td>222</td>\n",
       "    </tr>\n",
       "    <tr>\n",
       "      <th>5002</th>\n",
       "      <td>AL01</td>\n",
       "      <td>F</td>\n",
       "      <td>TOTAL</td>\n",
       "      <td>2020</td>\n",
       "      <td>5</td>\n",
       "      <td>2</td>\n",
       "    </tr>\n",
       "    <tr>\n",
       "      <th>5003</th>\n",
       "      <td>AL011</td>\n",
       "      <td>F</td>\n",
       "      <td>TOTAL</td>\n",
       "      <td>2020</td>\n",
       "      <td>5</td>\n",
       "      <td>14</td>\n",
       "    </tr>\n",
       "    <tr>\n",
       "      <th>5004</th>\n",
       "      <td>AL012</td>\n",
       "      <td>F</td>\n",
       "      <td>TOTAL</td>\n",
       "      <td>2020</td>\n",
       "      <td>5</td>\n",
       "      <td>13</td>\n",
       "    </tr>\n",
       "  </tbody>\n",
       "</table>\n",
       "</div>"
      ],
      "text/plain": [
       "     region sex    age  year  week deaths\n",
       "5000     AL   F  TOTAL  2020     5    230\n",
       "5001    AL0   F  TOTAL  2020     5    222\n",
       "5002   AL01   F  TOTAL  2020     5      2\n",
       "5003  AL011   F  TOTAL  2020     5     14\n",
       "5004  AL012   F  TOTAL  2020     5     13"
      ]
     },
     "execution_count": 51,
     "metadata": {},
     "output_type": "execute_result"
    }
   ],
   "source": [
    "deaths_new.head()"
   ]
  },
  {
   "cell_type": "code",
   "execution_count": null,
   "metadata": {},
   "outputs": [],
   "source": []
  }
 ],
 "metadata": {
  "kernelspec": {
   "display_name": "Python 3",
   "language": "python",
   "name": "python3"
  },
  "language_info": {
   "codemirror_mode": {
    "name": "ipython",
    "version": 3
   },
   "file_extension": ".py",
   "mimetype": "text/x-python",
   "name": "python",
   "nbconvert_exporter": "python",
   "pygments_lexer": "ipython3",
   "version": "3.7.6"
  }
 },
 "nbformat": 4,
 "nbformat_minor": 4
}
